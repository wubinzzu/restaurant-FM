{
 "cells": [
  {
   "cell_type": "code",
   "execution_count": 4,
   "metadata": {
    "collapsed": true
   },
   "outputs": [],
   "source": [
    "u_words = list()\n",
    "r_words = list()"
   ]
  },
  {
   "cell_type": "code",
   "execution_count": 2,
   "metadata": {
    "collapsed": true
   },
   "outputs": [],
   "source": [
    "u_f = open('/Users/yuminhwan/workspace/restaurant_cf/data/words/20151216_user.txt')\n",
    "r_f = open('/Users/yuminhwan/workspace/restaurant_cf/data/words/20151216_user.txt')"
   ]
  },
  {
   "cell_type": "code",
   "execution_count": 6,
   "metadata": {
    "collapsed": false
   },
   "outputs": [],
   "source": [
    "for line in u_f:\n",
    "    line = line.strip()\n",
    "    u_words.append(line)\n",
    "    \n",
    "for line in r_f:\n",
    "    line = line.strip()\n",
    "    r_words.append(line)"
   ]
  },
  {
   "cell_type": "code",
   "execution_count": 10,
   "metadata": {
    "collapsed": false
   },
   "outputs": [],
   "source": [
    "u_words = set(u_words[:100])\n",
    "r_words = set(r_words[:100])"
   ]
  },
  {
   "cell_type": "code",
   "execution_count": 11,
   "metadata": {
    "collapsed": false
   },
   "outputs": [],
   "source": [
    "exist = set()\n",
    "not_exist = set()\n",
    "\n",
    "for w in u_words:\n",
    "    if w not in r_words:\n",
    "        not_exist.add(w)\n",
    "    else:\n",
    "        exist.add(w)"
   ]
  },
  {
   "cell_type": "code",
   "execution_count": 12,
   "metadata": {
    "collapsed": false
   },
   "outputs": [
    {
     "data": {
      "text/plain": [
       "{'dine'}"
      ]
     },
     "execution_count": 12,
     "metadata": {},
     "output_type": "execute_result"
    }
   ],
   "source": [
    "not_exist"
   ]
  },
  {
   "cell_type": "code",
   "execution_count": 13,
   "metadata": {
    "collapsed": false
   },
   "outputs": [
    {
     "data": {
      "text/plain": [
       "{'appet',\n",
       " 'area',\n",
       " 'atmospher',\n",
       " 'bacon',\n",
       " 'bar',\n",
       " 'bean',\n",
       " 'beef',\n",
       " 'beer',\n",
       " 'bit',\n",
       " 'bread',\n",
       " 'brunch',\n",
       " 'burger',\n",
       " 'burrito',\n",
       " 'cake',\n",
       " 'chees',\n",
       " 'chicken',\n",
       " 'chocol',\n",
       " 'citi',\n",
       " 'cocktail',\n",
       " 'coffe',\n",
       " 'crab',\n",
       " 'cream',\n",
       " 'dai',\n",
       " 'dessert',\n",
       " 'dinner',\n",
       " 'dish',\n",
       " 'drink',\n",
       " 'egg',\n",
       " 'experi',\n",
       " 'fish',\n",
       " 'flavor',\n",
       " 'food',\n",
       " 'francisco',\n",
       " 'fri',\n",
       " 'friend',\n",
       " 'fun',\n",
       " 'group',\n",
       " 'hour',\n",
       " 'hous',\n",
       " 'ic',\n",
       " 'kind',\n",
       " 'line',\n",
       " 'locat',\n",
       " 'lot',\n",
       " 'love',\n",
       " 'lunch',\n",
       " 'meal',\n",
       " 'meat',\n",
       " 'menu',\n",
       " 'minut',\n",
       " 'night',\n",
       " 'noodl',\n",
       " 'order',\n",
       " 'oyster',\n",
       " 'park',\n",
       " 'parti',\n",
       " 'peopl',\n",
       " 'pizza',\n",
       " 'plate',\n",
       " 'pork',\n",
       " 'portion',\n",
       " 'potato',\n",
       " 'price',\n",
       " 'qualiti',\n",
       " 'ramen',\n",
       " 'reserv',\n",
       " 'restaur',\n",
       " 'review',\n",
       " 'rice',\n",
       " 'roll',\n",
       " 'room',\n",
       " 'salad',\n",
       " 'san',\n",
       " 'sandwich',\n",
       " 'sauc',\n",
       " 'seat',\n",
       " 'server',\n",
       " 'servic',\n",
       " 'sf',\n",
       " 'shrimp',\n",
       " 'side',\n",
       " 'soup',\n",
       " 'spici',\n",
       " 'spot',\n",
       " 'staff',\n",
       " 'star',\n",
       " 'steak',\n",
       " 'sushi',\n",
       " 'tabl',\n",
       " 'taco',\n",
       " 'tast',\n",
       " 'tea',\n",
       " 'thing',\n",
       " 'time',\n",
       " 'wait',\n",
       " 'waiter',\n",
       " 'waitress',\n",
       " 'wine',\n",
       " 'year'}"
      ]
     },
     "execution_count": 13,
     "metadata": {},
     "output_type": "execute_result"
    }
   ],
   "source": [
    "exist"
   ]
  },
  {
   "cell_type": "code",
   "execution_count": null,
   "metadata": {
    "collapsed": true
   },
   "outputs": [],
   "source": []
  }
 ],
 "metadata": {
  "kernelspec": {
   "display_name": "Python 2",
   "language": "python",
   "name": "python2"
  },
  "language_info": {
   "codemirror_mode": {
    "name": "ipython",
    "version": 2
   },
   "file_extension": ".py",
   "mimetype": "text/x-python",
   "name": "python",
   "nbconvert_exporter": "python",
   "pygments_lexer": "ipython2",
   "version": "2.7.10"
  }
 },
 "nbformat": 4,
 "nbformat_minor": 0
}
